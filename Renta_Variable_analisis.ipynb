{
  "nbformat": 4,
  "nbformat_minor": 0,
  "metadata": {
    "colab": {
      "provenance": [],
      "include_colab_link": true
    },
    "kernelspec": {
      "name": "python3",
      "display_name": "Python 3"
    },
    "language_info": {
      "name": "python"
    }
  },
  "cells": [
    {
      "cell_type": "markdown",
      "metadata": {
        "id": "view-in-github",
        "colab_type": "text"
      },
      "source": [
        "<a href=\"https://colab.research.google.com/github/Emmahgithub/Analis-de-rendimientos-y-portafolios/blob/main/Renta_Variable_analisis.ipynb\" target=\"_parent\"><img src=\"https://colab.research.google.com/assets/colab-badge.svg\" alt=\"Open In Colab\"/></a>"
      ]
    },
    {
      "cell_type": "markdown",
      "source": [
        "<font color=\"Teal\" face=\"Comic Sans MS,arial\">\n",
        "  <h1 align=\"center\"><i>Analisis de renta variable</i></h1>\n",
        "  </font>\n",
        "  <font color=\"Blue\" face=\"Comic Sans MS,arial\">\n",
        "  <h5 align=\"center\"><i>VARGAS BAUTISTA EMMANUEL</i></h5>\n",
        "  </font>"
      ],
      "metadata": {
        "id": "XarvmbZqYw7L"
      }
    },
    {
      "cell_type": "code",
      "source": [
        "#Librerias\n",
        "import yfinance as yf\n",
        "import pandas as pd\n",
        "import numpy as np"
      ],
      "metadata": {
        "id": "l-GRv4AzNiY0"
      },
      "execution_count": null,
      "outputs": []
    },
    {
      "cell_type": "markdown",
      "source": [
        "#Calculo de rendimientos y sus estad ́ısticas, ademas de Optimizaci ́on de Portafolios."
      ],
      "metadata": {
        "id": "DyO-t-7PNnbF"
      }
    },
    {
      "cell_type": "code",
      "execution_count": null,
      "metadata": {
        "colab": {
          "base_uri": "https://localhost:8080/"
        },
        "id": "RpTZvw4qOdh6",
        "outputId": "c56dba31-3107-4746-feca-3bc761907f7a"
      },
      "outputs": [
        {
          "output_type": "stream",
          "name": "stderr",
          "text": [
            "[*********************100%***********************]  1 of 1 completed\n",
            "[*********************100%***********************]  1 of 1 completed\n",
            "[*********************100%***********************]  1 of 1 completed\n",
            "[*********************100%***********************]  1 of 1 completed\n",
            "[*********************100%***********************]  1 of 1 completed\n",
            "[*********************100%***********************]  1 of 1 completed"
          ]
        },
        {
          "output_type": "stream",
          "name": "stdout",
          "text": [
            "\n",
            "Resultados para EWG:\n",
            "\n",
            "              Precios  USD/MXN  Precios en MXN      Rend  \\\n",
            "Date                                                       \n",
            "2010-01-04  22.900000  12.8718      294.764225       NaN   \n",
            "2010-01-05  22.790001  12.8108      291.958135  0.990480   \n",
            "2010-01-06  22.930000  12.7395      292.116740  1.000543   \n",
            "2010-01-07  22.770000  12.7602      290.549750  0.994636   \n",
            "2010-01-08  22.799999  12.6842      289.199757  0.995354   \n",
            "\n",
            "            Rendimiento Anualizado  Desviación Anualizada  \n",
            "Date                                                       \n",
            "2010-01-04                 1.05559               0.223878  \n",
            "2010-01-05                 1.05559               0.223878  \n",
            "2010-01-06                 1.05559               0.223878  \n",
            "2010-01-07                 1.05559               0.223878  \n",
            "2010-01-08                 1.05559               0.223878  \n",
            "\n",
            "Resultados para EWJ:\n",
            "\n",
            "              Precios  USD/MXN  Precios en MXN      Rend  \\\n",
            "Date                                                       \n",
            "2010-01-04  39.959999  12.8718      514.357133       NaN   \n",
            "2010-01-05  40.200001  12.8108      514.994154  1.001238   \n",
            "2010-01-06  40.360001  12.7395      514.166230  0.998392   \n",
            "2010-01-07  40.000000  12.7602      510.407982  0.992691   \n",
            "2010-01-08  40.480000  12.6842      513.456422  1.005973   \n",
            "\n",
            "            Rendimiento Anualizado  Desviación Anualizada  \n",
            "Date                                                       \n",
            "2010-01-04                1.070816               0.188818  \n",
            "2010-01-05                1.070816               0.188818  \n",
            "2010-01-06                1.070816               0.188818  \n",
            "2010-01-07                1.070816               0.188818  \n",
            "2010-01-08                1.070816               0.188818  \n",
            "\n",
            "Resultados para EWU:\n",
            "\n",
            "              Precios  USD/MXN  Precios en MXN      Rend  \\\n",
            "Date                                                       \n",
            "2010-01-04  33.020000  12.8718      425.026856       NaN   \n",
            "2010-01-05  33.240002  12.8108      425.831000  1.001892   \n",
            "2010-01-06  33.259998  12.7395      423.715750  0.995033   \n",
            "2010-01-07  33.139999  12.7602      422.873005  0.998011   \n",
            "2010-01-08  33.320000  12.6842      422.637550  0.999443   \n",
            "\n",
            "            Rendimiento Anualizado  Desviación Anualizada  \n",
            "Date                                                       \n",
            "2010-01-04                1.037161               0.198156  \n",
            "2010-01-05                1.037161               0.198156  \n",
            "2010-01-06                1.037161               0.198156  \n",
            "2010-01-07                1.037161               0.198156  \n",
            "2010-01-08                1.037161               0.198156  \n",
            "\n",
            "Resultados para EZU:\n",
            "\n",
            "              Precios  USD/MXN  Precios en MXN      Rend  \\\n",
            "Date                                                       \n",
            "2010-01-04  38.480000  12.8718      495.306874       NaN   \n",
            "2010-01-05  38.599998  12.8108      494.496845  0.998365   \n",
            "2010-01-06  38.759998  12.7395      493.783000  0.998556   \n",
            "2010-01-07  38.580002  12.7602      492.288522  0.996973   \n",
            "2010-01-08  38.910000  12.6842      493.542231  1.002547   \n",
            "\n",
            "            Rendimiento Anualizado  Desviación Anualizada  \n",
            "Date                                                       \n",
            "2010-01-04                1.046772               0.222596  \n",
            "2010-01-05                1.046772               0.222596  \n",
            "2010-01-06                1.046772               0.222596  \n",
            "2010-01-07                1.046772               0.222596  \n",
            "2010-01-08                1.046772               0.222596  \n",
            "\n",
            "Resultados para ^GSPC:\n",
            "\n",
            "                Precios  USD/MXN  Precios en MXN      Rend  \\\n",
            "Date                                                         \n",
            "2010-01-04  1132.989990  12.8718    14583.621035       NaN   \n",
            "2010-01-05  1136.520020  12.8108    14559.730210  0.998362   \n",
            "2010-01-06  1137.140015  12.7395    14486.595269  0.994977   \n",
            "2010-01-07  1141.689941  12.7602    14568.191473  1.005633   \n",
            "2010-01-08  1144.979980  12.6842    14523.155397  0.996909   \n",
            "\n",
            "            Rendimiento Anualizado  Desviación Anualizada  \n",
            "Date                                                       \n",
            "2010-01-04                1.154195               0.182566  \n",
            "2010-01-05                1.154195               0.182566  \n",
            "2010-01-06                1.154195               0.182566  \n",
            "2010-01-07                1.154195               0.182566  \n",
            "2010-01-08                1.154195               0.182566  \n"
          ]
        },
        {
          "output_type": "stream",
          "name": "stderr",
          "text": [
            "\n"
          ]
        }
      ],
      "source": [
        "def calcular_estadisticas_en_dataframe(etfs, start_date, end_date):\n",
        "    # Diccionario para almacenar los DataFrames completos con estadísticas\n",
        "    resultados = {}\n",
        "\n",
        "    # Descargar los datos de tipo de cambio USD/MXN\n",
        "    usd_mxn = yf.download('MXN=X', start=start_date, end=end_date)['Close']\n",
        "\n",
        "    for etf in etfs:\n",
        "        # Descargar los precios de cierre del ETF\n",
        "        etf_data = yf.download(etf, start=start_date, end=end_date)['Close']\n",
        "\n",
        "        # Unir los dataframes del ETF y del tipo de cambio\n",
        "        datas = pd.merge(etf_data, usd_mxn, left_index=True, right_index=True, how='inner')\n",
        "\n",
        "        # Agregar encabezados a las columnas\n",
        "        datas.columns = ['Precios', 'USD/MXN']\n",
        "\n",
        "        # Calcular los precios en MXN\n",
        "        datas['Precios en MXN'] = datas['Precios'] * datas['USD/MXN']\n",
        "\n",
        "        # Calcular los rendimientos diarios\n",
        "        datas['Rend'] = datas['Precios en MXN'] / datas['Precios en MXN'].shift(1)\n",
        "\n",
        "        # Calcular métricas estadísticas\n",
        "        media = datas['Rend'].mean()\n",
        "        varianza = datas['Rend'].var()\n",
        "        desviacion_estandar = datas['Rend'].std()\n",
        "        sesgo = datas['Rend'].skew()\n",
        "        exceso_curtosis = datas['Rend'].kurtosis()\n",
        "\n",
        "        # Calcular rendimiento anualizado\n",
        "        dias_totales = datas['Rend'].dropna().count()  # Total de días con datos\n",
        "        rendimiento_anualizado = (np.prod(datas['Rend'].dropna()) ** (252 / dias_totales))\n",
        "\n",
        "        #Calcular desviación estandar anualizada\n",
        "        desviacion_anualizada = desviacion_estandar * np.sqrt(252)\n",
        "\n",
        "        # Agregar métricas como nuevas columnas al DataFrame\n",
        "        datas['Media'] = media\n",
        "        datas['Varianza'] = varianza\n",
        "        datas['Desviación Estándar'] = desviacion_estandar\n",
        "        datas['Sesgo'] = sesgo\n",
        "        datas['Exceso de Curtosis'] = exceso_curtosis\n",
        "        datas['Rendimiento Anualizado'] = rendimiento_anualizado  # Misma columna para todas las filas\n",
        "        datas['Desviación Anualizada'] = desviacion_anualizada # Misma columna para todas las filas\n",
        "\n",
        "        # Guardar el DataFrame en el diccionario de resultados\n",
        "        resultados[etf] = datas\n",
        "\n",
        "    return resultados\n",
        "\n",
        "# Lista de ETFs y rango de fechas\n",
        "etfs = ['EWG', 'EWJ', 'EWU', 'EZU', '^GSPC']  #EWG (Alemania ETF), EWJ (Japon ETF), EWU (Reino Unido ETF), EZU(Zona Euro ETF), Incluyendo el S&P 500 como ^GSPC\n",
        "start_date = '2010-01-01'\n",
        "end_date = '2024-12-01'\n",
        "\n",
        "# Ejecutar la función y obtener resultados\n",
        "resultados = calcular_estadisticas_en_dataframe(etfs, start_date, end_date)\n",
        "\n",
        "# Mostrar resultados\n",
        "for etf, df in resultados.items():\n",
        "    print(f\"\\nResultados para {etf}:\\n\")\n",
        "    print(df[['Precios', 'USD/MXN', 'Precios en MXN', 'Rend', 'Rendimiento Anualizado', 'Desviación Anualizada']].head())\n",
        "\n",
        "\n"
      ]
    },
    {
      "cell_type": "markdown",
      "source": [
        "# Calculo de los rendimientos"
      ],
      "metadata": {
        "id": "6QN13OBwPGPX"
      }
    },
    {
      "cell_type": "code",
      "source": [
        "# Crear un DataFrame con rendimientos anualizados y rendimientos diarios (para la matriz de covarianza)\n",
        "rendimientos_diarios = {}\n",
        "rendimientos_anualizados = []\n",
        "\n",
        "etfs_seleccionados = list(resultados.keys())[:4]  # 4 ETFs\n",
        "for etf in etfs_seleccionados:\n",
        "    df = resultados[etf]\n",
        "    rendimientos_diarios[etf] = df['Rend'].dropna()\n",
        "    rendimientos_anualizados.append(df['Rendimiento Anualizado'].iloc[0])\n",
        "\n",
        "# Calcular matriz de covarianza (Σ)\n",
        "rendimientos_diarios_df = pd.DataFrame(rendimientos_diarios)\n",
        "cov_matriz = rendimientos_diarios_df.cov() * 252  # Anualizar\n",
        "\n",
        "mu = np.array(rendimientos_anualizados)  # Vector de rendimientos esperados (μ)\n",
        "unos = np.ones(len(mu))  # Vector de unos\n",
        "\n",
        "inv_cov = np.linalg.inv(cov_matriz) # Inversa de la matriz de covarianza"
      ],
      "metadata": {
        "id": "jAk4qXsyOrPW"
      },
      "execution_count": null,
      "outputs": []
    },
    {
      "cell_type": "markdown",
      "source": [
        "# portafolio de mınima varianza y el portafolio tangente a la frontera eficiente."
      ],
      "metadata": {
        "id": "eYvVBPJ5N0An"
      }
    },
    {
      "cell_type": "code",
      "source": [
        "lambdas = [1, 2, 7, 9]\n",
        "\n",
        "def portafolio_media_varianza(mu, cov_matriz, lambdas, tasa_libre_riesgo = 0.0626):\n",
        "\n",
        "    pesos_optimos = {} # Diccionario para almacenar los resultados de los pesos\n",
        "    # PESOS OPTIMOS PARA CADA LAMBDA\n",
        "    for lambda_valor in lambdas:\n",
        "        w = (1/(lambda_valor)) * inv_cov @ (mu - (tasa_libre_riesgo*unos))\n",
        "        pesos_optimos[lambda_valor] = w\n",
        "\n",
        "    return pesos_optimos\n",
        "\n",
        "\n",
        "# Calcular los pesos óptimos\n",
        "pesos_optimos = portafolio_media_varianza(mu, cov_matriz, lambdas)\n",
        "\n",
        "etfs_nombres = ['EWG', 'EWJ', 'EWU', 'EZU']\n",
        "\n",
        "# Resultados\n",
        "for lambda_valor, pesos in pesos_optimos.items():\n",
        "    print(f\"\\nPesos óptimos para lambda = {lambda_valor}:\")\n",
        "    for etf_nombres, peso in zip(etfs_nombres, pesos):\n",
        "        print(f\"{etf_nombres}: {peso:.4f}\")"
      ],
      "metadata": {
        "colab": {
          "base_uri": "https://localhost:8080/"
        },
        "id": "urhn6K75BQ_0",
        "outputId": "6f374ed8-e26c-43e5-99a1-a7aba9e96710"
      },
      "execution_count": null,
      "outputs": [
        {
          "output_type": "stream",
          "name": "stdout",
          "text": [
            "\n",
            "Pesos óptimos para lambda = 1:\n",
            "EWG: 5.1811\n",
            "EWJ: 20.1174\n",
            "EWU: 14.2979\n",
            "EZU: -8.2478\n",
            "\n",
            "Pesos óptimos para lambda = 2:\n",
            "EWG: 2.5905\n",
            "EWJ: 10.0587\n",
            "EWU: 7.1490\n",
            "EZU: -4.1239\n",
            "\n",
            "Pesos óptimos para lambda = 7:\n",
            "EWG: 0.7402\n",
            "EWJ: 2.8739\n",
            "EWU: 2.0426\n",
            "EZU: -1.1783\n",
            "\n",
            "Pesos óptimos para lambda = 9:\n",
            "EWG: 0.5757\n",
            "EWJ: 2.2353\n",
            "EWU: 1.5887\n",
            "EZU: -0.9164\n"
          ]
        }
      ]
    },
    {
      "cell_type": "code",
      "source": [
        "# Función para calcular los pesos óptimos\n",
        "def calcular_pesos_optimos(mu, cov_matrix, m, rf=0.0626):\n",
        "    \"\"\"\n",
        "    Calcula los pesos óptimos para un portafolio dado el rendimiento esperado m y la tasa libre de riesgo rf.\n",
        "\n",
        "    Parámetros:\n",
        "    - mu: vector de rendimientos promedio anualizados de los activos.\n",
        "    - cov_matrix: matriz de covarianza anualizada de los rendimientos.\n",
        "    - m: rendimiento esperado del portafolio.\n",
        "    - rf: tasa libre de riesgo (default=0.1).\n",
        "\n",
        "    Retorna:\n",
        "    - w_opt: vector de pesos óptimos.\n",
        "    \"\"\"\n",
        "    # Inverso de la matriz de covarianza\n",
        "    inv_cov = np.linalg.inv(cov_matriz)\n",
        "\n",
        "    # Cálculo de estadísticas clave\n",
        "    A = unos.T @ inv_cov @ unos\n",
        "    B = mu.T @ inv_cov @ unos\n",
        "    C = mu.T @ inv_cov @ mu\n",
        "\n",
        "    # Multiplicadores de Lagrange\n",
        "    lambda_ = (A * m - B) / (A * C - B**2)\n",
        "    gamma = (C - B * m) / (A * C - B**2)\n",
        "\n",
        "    # Pesos óptimos\n",
        "    w_opt = inv_cov @ (lambda_ * mu + gamma * unos)\n",
        "\n",
        "    return w_opt\n",
        "\n",
        "# Rendimiento objetivo\n",
        "rendimiento_objetivo = 0.13\n",
        "\n",
        "# Calcular los pesos óptimos\n",
        "pesos_optimos = calcular_pesos_optimos(mu, cov_matriz, rendimiento_objetivo)\n",
        "print(pesos_optimos)\n",
        "\n",
        "# Mostrar los pesos óptimos con el nombre del ETF asociado\n",
        "etfs_nombres = ['EWG (Alemania)', 'EWJ (Japón)', 'EWU (Reino Unido)', 'EZU (Zona Euro)']\n",
        "\n",
        "print(\"\\nPesos Óptimos por ETF:\")\n",
        "for etf_nombres, peso in zip(etfs_nombres, pesos_optimos):\n",
        "    print(f\"{etf_nombres}: {peso:.4%}\")\n",
        "\n"
      ],
      "metadata": {
        "colab": {
          "base_uri": "https://localhost:8080/"
        },
        "id": "XZrNtLpxoYcq",
        "outputId": "b63db319-774c-4cf7-c217-62c6bbee629e"
      },
      "execution_count": null,
      "outputs": [
        {
          "output_type": "stream",
          "name": "stdout",
          "text": [
            "[-30.49635708 -16.79068001  25.40145357  22.88558352]\n",
            "\n",
            "Pesos Óptimos por ETF:\n",
            "EWG (Alemania): -3049.6357%\n",
            "EWJ (Japón): -1679.0680%\n",
            "EWU (Reino Unido): 2540.1454%\n",
            "EZU (Zona Euro): 2288.5584%\n"
          ]
        }
      ]
    },
    {
      "cell_type": "code",
      "source": [
        "# Definir A y B\n",
        "A = unos.T @ inv_cov @ unos\n",
        "B = mu.T @ inv_cov @ unos\n",
        "\n",
        "# Portafolio de minima varianza cuando:\n",
        "m_g = B / A\n",
        "w_g = (inv_cov @ unos) / A\n",
        "sigma2_g = 1 / A\n",
        "\n",
        "# Pesos portafolio tangente\n",
        "r = 0.0626 # se incluye un activo libre de riesgo\n",
        "w_t = (inv_cov @ (mu - (r * unos)))/(B - A*r)\n",
        "\n",
        "print(\"El portafolio de varianza minima  ocurre cuando m =\", m_g)\n",
        "print(\"Con pesos w =\", w_g , \"y σ² =\", sigma2_g)\n",
        "print(\"\\nEl portafolio tangente cuando incluye un activo libre de riesgo tiene pesos w =\", w_t)"
      ],
      "metadata": {
        "colab": {
          "base_uri": "https://localhost:8080/"
        },
        "id": "U5qtykXQSQok",
        "outputId": "a26bf8c8-25f8-4e5d-de69-bc7c0b3e5dd1"
      },
      "execution_count": null,
      "outputs": [
        {
          "output_type": "stream",
          "name": "stdout",
          "text": [
            "El portafolio de varianza minima  ocurre cuando m = 1.0569138954350665\n",
            "Con pesos w = [ 0.08734515  0.59742682  0.5194929  -0.20426487] y σ² = 0.031717906979234906\n",
            "\n",
            "El portafolio tangente cuando incluye un activo libre de riesgo tiene pesos w = [ 0.16527277  0.64173191  0.45609339 -0.26309807]\n"
          ]
        }
      ]
    }
  ]
}